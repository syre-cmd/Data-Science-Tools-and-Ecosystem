{
 "cells": [
  {
   "cell_type": "markdown",
   "id": "64931c75",
   "metadata": {},
   "source": [
    "# Data Science Tools and Ecosystem"
   ]
  },
  {
   "cell_type": "markdown",
   "id": "5a112d86",
   "metadata": {},
   "source": [
    "In this notebook, Data Science Tools and Ecosystem are summarized."
   ]
  },
  {
   "cell_type": "markdown",
   "id": "ca90636e",
   "metadata": {},
   "source": [
    "__Objectives:__ \n",
    "-list popular languages that Data Scientists use \n",
    "-list commonly used libraries used by Data Scientists \n",
    "-evaluate arithmetic expressions in Python"
   ]
  },
  {
   "cell_type": "markdown",
   "id": "8d8e0967",
   "metadata": {},
   "source": [
    "Some of the popular languages that Data Scientists use are: \n",
    "    1. Python. \n",
    "    2. R. \n",
    "    3. Java."
   ]
  },
  {
   "cell_type": "markdown",
   "id": "9fb8f6fc",
   "metadata": {},
   "source": [
    "Some of the commonly used libraries used by Data Scientists include:\n",
    "    1. Jupyter Notebook.\n",
    "    2. Rstudio.\n",
    "    3. Visual Studio Code.\n"
   ]
  },
  {
   "cell_type": "markdown",
   "id": "58d5c63f",
   "metadata": {},
   "source": [
    "| Data Science Tools |\n",
    "|---------------|\n",
    "| Jupyter Notebooks |\n",
    "| Rstudio | \n",
    "| Visual Studio Code |"
   ]
  },
  {
   "cell_type": "markdown",
   "id": "7c3b9066",
   "metadata": {},
   "source": [
    "Below are a few examples of evaluating arithmetic expressions in Python"
   ]
  },
  {
   "cell_type": "code",
   "execution_count": 2,
   "id": "55ad99a5",
   "metadata": {},
   "outputs": [
    {
     "name": "stdout",
     "output_type": "stream",
     "text": [
      "17\n"
     ]
    }
   ],
   "source": [
    "#This a simple arithmetic expression to mutiply then add integers\n",
    "result = (3*4)+5\n",
    "print(result)"
   ]
  },
  {
   "cell_type": "code",
   "execution_count": 3,
   "id": "21249e7d",
   "metadata": {},
   "outputs": [
    {
     "name": "stdout",
     "output_type": "stream",
     "text": [
      "3.3333333333333335\n"
     ]
    }
   ],
   "source": [
    "#This will convert 200 minutes to hours by diving by 60\n",
    "hours = 200/60\n",
    "print(hours)"
   ]
  },
  {
   "cell_type": "markdown",
   "id": "d45e781f",
   "metadata": {},
   "source": [
    "## Author\n",
    "ZIGGY WAMBUA"
   ]
  }
 ],
 "metadata": {
  "kernelspec": {
   "display_name": "Python 3 (ipykernel)",
   "language": "python",
   "name": "python3"
  },
  "language_info": {
   "codemirror_mode": {
    "name": "ipython",
    "version": 3
   },
   "file_extension": ".py",
   "mimetype": "text/x-python",
   "name": "python",
   "nbconvert_exporter": "python",
   "pygments_lexer": "ipython3",
   "version": "3.10.11"
  }
 },
 "nbformat": 4,
 "nbformat_minor": 5
}
